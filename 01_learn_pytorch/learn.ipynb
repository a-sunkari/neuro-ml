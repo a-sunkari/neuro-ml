{
 "cells": [
  {
   "cell_type": "markdown",
   "id": "c7df49ca",
   "metadata": {},
   "source": [
    "# Imports"
   ]
  },
  {
   "cell_type": "code",
   "execution_count": 54,
   "id": "6996108c",
   "metadata": {},
   "outputs": [
    {
     "name": "stdout",
     "output_type": "stream",
     "text": [
      "System Version: 3.13.7 | packaged by conda-forge | (main, Sep  3 2025, 14:30:35) [GCC 14.3.0]\n",
      "PyTorch version 2.6.0\n",
      "Torchvision version 0.21.0\n",
      "Numpy version 2.3.3\n",
      "Pandas version 2.3.2\n"
     ]
    }
   ],
   "source": [
    "import torch\n",
    "import torch.nn as nn\n",
    "import torch.optim as optim\n",
    "from torch.utils.data import Dataset, DataLoader\n",
    "import torchvision\n",
    "import torchvision.transforms as transforms\n",
    "from torchvision.datasets import ImageFolder\n",
    "import timm\n",
    "\n",
    "import matplotlib.pyplot as plt # For data viz\n",
    "import pandas as pd\n",
    "import numpy as np\n",
    "import sys\n",
    "from tqdm.notebook import tqdm\n",
    "\n",
    "print('System Version:', sys.version)\n",
    "print('PyTorch version', torch.__version__)\n",
    "print('Torchvision version', torchvision.__version__)\n",
    "print('Numpy version', np.__version__)\n",
    "print('Pandas version', pd.__version__)"
   ]
  },
  {
   "cell_type": "markdown",
   "id": "077d875a",
   "metadata": {},
   "source": [
    "# Create Pytorch Dataset and Dataloader"
   ]
  },
  {
   "cell_type": "code",
   "execution_count": 55,
   "id": "a358b126",
   "metadata": {},
   "outputs": [],
   "source": [
    "# Create the playing card dataset class\n",
    "\n",
    "class PlayingCardDataset(Dataset):\n",
    "    def __init__(self, data_dir, transform=None):\n",
    "        self.data = ImageFolder(data_dir, transform=transform)\n",
    "\n",
    "    def __len__(self): # How many examples are in the dataset?\n",
    "        return len(self.data)\n",
    "\n",
    "    def __getitem__(self, idx): # Takes the index location in the dataset and returns one item.\n",
    "        return self.data[idx]\n",
    "\n",
    "    @property\n",
    "    def classes(self):\n",
    "        return self.data.classes"
   ]
  },
  {
   "cell_type": "code",
   "execution_count": 56,
   "id": "7a5eee12",
   "metadata": {},
   "outputs": [],
   "source": [
    "# Name the data directory\n",
    "\n",
    "data_dir = '/home/asunkari/neuro-ml/01_learn_pytorch/archive/train'"
   ]
  },
  {
   "cell_type": "code",
   "execution_count": 57,
   "id": "8371d80e",
   "metadata": {},
   "outputs": [
    {
     "name": "stdout",
     "output_type": "stream",
     "text": [
      "{0: 'ace of clubs', 1: 'ace of diamonds', 2: 'ace of hearts', 3: 'ace of spades', 4: 'eight of clubs', 5: 'eight of diamonds', 6: 'eight of hearts', 7: 'eight of spades', 8: 'five of clubs', 9: 'five of diamonds', 10: 'five of hearts', 11: 'five of spades', 12: 'four of clubs', 13: 'four of diamonds', 14: 'four of hearts', 15: 'four of spades', 16: 'jack of clubs', 17: 'jack of diamonds', 18: 'jack of hearts', 19: 'jack of spades', 20: 'joker', 21: 'king of clubs', 22: 'king of diamonds', 23: 'king of hearts', 24: 'king of spades', 25: 'nine of clubs', 26: 'nine of diamonds', 27: 'nine of hearts', 28: 'nine of spades', 29: 'queen of clubs', 30: 'queen of diamonds', 31: 'queen of hearts', 32: 'queen of spades', 33: 'seven of clubs', 34: 'seven of diamonds', 35: 'seven of hearts', 36: 'seven of spades', 37: 'six of clubs', 38: 'six of diamonds', 39: 'six of hearts', 40: 'six of spades', 41: 'ten of clubs', 42: 'ten of diamonds', 43: 'ten of hearts', 44: 'ten of spades', 45: 'three of clubs', 46: 'three of diamonds', 47: 'three of hearts', 48: 'three of spades', 49: 'two of clubs', 50: 'two of diamonds', 51: 'two of hearts', 52: 'two of spades'}\n"
     ]
    }
   ],
   "source": [
    "# Associate the numerical label value with the actual card name using a dictionary\n",
    "\n",
    "target_to_class = {v: k for k, v in ImageFolder(data_dir).class_to_idx.items()}\n",
    "print(target_to_class)"
   ]
  },
  {
   "cell_type": "code",
   "execution_count": 58,
   "id": "6c25b91c",
   "metadata": {},
   "outputs": [],
   "source": [
    "# Transform all images to the same size\n",
    "\n",
    "transform = transforms.Compose([\n",
    "    transforms.Resize((128, 128)),     # resize to 128px by 128px\n",
    "    transforms.ToTensor(),             # convert the regular image (visual) to a tensor\n",
    "])"
   ]
  },
  {
   "cell_type": "code",
   "execution_count": 59,
   "id": "d31778c0",
   "metadata": {},
   "outputs": [],
   "source": [
    "# Import dataset\n",
    "\n",
    "dataset = PlayingCardDataset(data_dir, transform)"
   ]
  },
  {
   "cell_type": "code",
   "execution_count": 60,
   "id": "518da8e7",
   "metadata": {},
   "outputs": [],
   "source": [
    "# Dataloader setup\n",
    "\n",
    "dataloader = DataLoader(dataset, batch_size=32, shuffle=True) # choose batch size and whether to shuffle the data (better for training)"
   ]
  },
  {
   "cell_type": "markdown",
   "id": "a02335c4",
   "metadata": {},
   "source": [
    "# PyTorch Model"
   ]
  },
  {
   "cell_type": "code",
   "execution_count": 61,
   "id": "dcb96e05",
   "metadata": {},
   "outputs": [],
   "source": [
    "class SimpleCardClassifier(nn.Module):\n",
    "    def __init__(self, num_classes=53):\n",
    "        super(SimpleCardClassifier, self).__init__()\n",
    "        # Where we define all the parts of the model.\n",
    "        self.base_model = timm.create_model('efficientnet_b0', pretrained=True)\n",
    "        self.features = nn.Sequential(*list(self.base_model.children())[:-1]) # remove last base layer from that model\n",
    "\n",
    "        enet_out_size = 1280 # default number of outputs from efficient net b0\n",
    "        # Make a classifier\n",
    "        self.classifier = nn.Linear(enet_out_size, num_classes) # convert 1280 outputs into 53 classes\n",
    "\n",
    "    def forward(self, x):\n",
    "        # Connect these parts and return the output.\n",
    "        x = self.features(x)\n",
    "        output = self.classifier(x)\n",
    "        return output"
   ]
  },
  {
   "cell_type": "code",
   "execution_count": 63,
   "id": "a162e8f8",
   "metadata": {},
   "outputs": [
    {
     "data": {
      "text/plain": [
       "torch.Size([32, 53])"
      ]
     },
     "execution_count": 63,
     "metadata": {},
     "output_type": "execute_result"
    }
   ],
   "source": [
    "model = SimpleCardClassifier(num_classes=53)\n",
    "model(images).shape"
   ]
  }
 ],
 "metadata": {
  "kernelspec": {
   "display_name": "neuro",
   "language": "python",
   "name": "python3"
  },
  "language_info": {
   "codemirror_mode": {
    "name": "ipython",
    "version": 3
   },
   "file_extension": ".py",
   "mimetype": "text/x-python",
   "name": "python",
   "nbconvert_exporter": "python",
   "pygments_lexer": "ipython3",
   "version": "3.13.7"
  }
 },
 "nbformat": 4,
 "nbformat_minor": 5
}
